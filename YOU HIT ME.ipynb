{
 "cells": [
  {
   "cell_type": "code",
   "execution_count": 1,
   "metadata": {
    "ExecuteTime": {
     "end_time": "2020-02-02T09:03:00.794939Z",
     "start_time": "2020-02-02T09:03:00.781054Z"
    }
   },
   "outputs": [],
   "source": [
    "import tkinter as tk"
   ]
  },
  {
   "cell_type": "code",
   "execution_count": 34,
   "metadata": {
    "ExecuteTime": {
     "end_time": "2020-02-02T09:23:49.921005Z",
     "start_time": "2020-02-02T09:23:23.859231Z"
    }
   },
   "outputs": [],
   "source": [
    "window = tk.Tk()\n",
    "window.title(\"My Window\")\n",
    "window.geometry('600x250')\n",
    "\n",
    "variable = tk.StringVar()\n",
    "label = tk.Label(window, textvariable = variable, bg = 'red', font = ('Arial', 24), width = 15, height = 3)\n",
    "label.pack()\n",
    "\n",
    "\n",
    "on_hit = False\n",
    "def hit_me():\n",
    "    global on_hit\n",
    "    if on_hit == False:\n",
    "        variable.set(\"YOU HIT ME!!!\")\n",
    "        on_hit = True\n",
    "    else:\n",
    "        on_hit = False\n",
    "        variable.set('')\n",
    "        \n",
    "button = tk.Button(window, text = 'hit me!', width = 20, height = 3, command = hit_me)\n",
    "button.pack()\n",
    "\n",
    "window.mainloop()"
   ]
  }
 ],
 "metadata": {
  "kernelspec": {
   "display_name": "Python 3",
   "language": "python",
   "name": "python3"
  },
  "language_info": {
   "codemirror_mode": {
    "name": "ipython",
    "version": 3
   },
   "file_extension": ".py",
   "mimetype": "text/x-python",
   "name": "python",
   "nbconvert_exporter": "python",
   "pygments_lexer": "ipython3",
   "version": "3.7.3"
  },
  "toc": {
   "base_numbering": 1,
   "nav_menu": {},
   "number_sections": true,
   "sideBar": true,
   "skip_h1_title": false,
   "title_cell": "Table of Contents",
   "title_sidebar": "Contents",
   "toc_cell": false,
   "toc_position": {},
   "toc_section_display": true,
   "toc_window_display": false
  }
 },
 "nbformat": 4,
 "nbformat_minor": 2
}
